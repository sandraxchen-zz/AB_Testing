{
 "cells": [
  {
   "cell_type": "code",
   "execution_count": 1,
   "metadata": {},
   "outputs": [],
   "source": [
    "import pandas as pd\n",
    "from scipy import stats as st\n",
    "import math\n",
    "import random"
   ]
  },
  {
   "cell_type": "code",
   "execution_count": 2,
   "metadata": {},
   "outputs": [
    {
     "name": "stdout",
     "output_type": "stream",
     "text": [
      "  Variant  purchase_TF        date        id\n",
      "0       A        False  2019-12-26  0x6f9421\n",
      "1       A        False  2019-08-16  0x59d442\n",
      "2       A         True  2019-03-18  0x6db8f8\n",
      "3       A        False  2019-02-13  0x68245d\n",
      "4       A        False  2019-09-28  0x28566e\n"
     ]
    }
   ],
   "source": [
    "df = pd.read_csv(\"AB_test_data.csv\")\n",
    "\n",
    "# inspect data frame\n",
    "print(df.head())"
   ]
  },
  {
   "cell_type": "markdown",
   "metadata": {},
   "source": [
    "## Question 1"
   ]
  },
  {
   "cell_type": "code",
   "execution_count": 3,
   "metadata": {},
   "outputs": [
    {
     "name": "stdout",
     "output_type": "stream",
     "text": [
      "ConversionRate_A: 0.15\n"
     ]
    }
   ],
   "source": [
    "# for variant A - what % purchased\n",
    "p_pop = len(df[(df['Variant'] == \"A\") & (df['purchase_TF'] == True)]) / len(df[df['Variant'] == \"A\"])\n",
    "print(\"Conversion_A: %.3f\" % p_pop)"
   ]
  },
  {
   "cell_type": "code",
   "execution_count": 4,
   "metadata": {},
   "outputs": [
    {
     "name": "stdout",
     "output_type": "stream",
     "text": [
      "Conversion_B: 0.196\n"
     ]
    }
   ],
   "source": [
    "# for variant B - what % purchase\n",
    "p_sam = len(df[(df['Variant'] == \"B\") & (df['purchase_TF'] == True)]) / len(df[df['Variant'] == \"B\"])\n",
    "print(\"Conversion_B: %.3f\" % p_sam)"
   ]
  },
  {
   "cell_type": "code",
   "execution_count": 5,
   "metadata": {},
   "outputs": [
    {
     "name": "stdout",
     "output_type": "stream",
     "text": [
      "n: 5000\n"
     ]
    }
   ],
   "source": [
    "# sample size - how many people got variant B\n",
    "n = len(df[df['Variant'] == \"B\"])\n",
    "print(\"n: %d\" % n)"
   ]
  },
  {
   "cell_type": "code",
   "execution_count": 6,
   "metadata": {},
   "outputs": [
    {
     "name": "stdout",
     "output_type": "stream",
     "text": [
      "z-score: 8.69\n"
     ]
    }
   ],
   "source": [
    "z = (p_sam - p_pop) / math.sqrt( (p_pop*(1-p_pop)) / n )\n",
    "print(\"z-score: %.2f\" % z)"
   ]
  },
  {
   "cell_type": "code",
   "execution_count": 7,
   "metadata": {},
   "outputs": [
    {
     "name": "stdout",
     "output_type": "stream",
     "text": [
      "z_alpha2: 1.96\n"
     ]
    }
   ],
   "source": [
    "alpha = 0.05\n",
    "\n",
    "z_alpha = st.norm.ppf(1-(alpha/2))\n",
    "\n",
    "print(\"z_alpha2: %.2f\" % z_alpha)"
   ]
  },
  {
   "cell_type": "code",
   "execution_count": 9,
   "metadata": {},
   "outputs": [
    {
     "name": "stdout",
     "output_type": "stream",
     "text": [
      "Reject Null Hypothesis: True\n"
     ]
    }
   ],
   "source": [
    "print(\"Reject Null Hypothesis: %s\" % (z > z_alpha))"
   ]
  },
  {
   "cell_type": "markdown",
   "metadata": {},
   "source": [
    "## Question 2"
   ]
  },
  {
   "cell_type": "code",
   "execution_count": 10,
   "metadata": {},
   "outputs": [
    {
     "name": "stdout",
     "output_type": "stream",
     "text": [
      "z_beta: 0.84\n"
     ]
    }
   ],
   "source": [
    "beta = 1-0.8\n",
    "z_beta = st.norm.ppf(1-beta)\n",
    "print(\"z_beta: %.2f\" % z_beta)"
   ]
  },
  {
   "cell_type": "code",
   "execution_count": 15,
   "metadata": {},
   "outputs": [
    {
     "name": "stdout",
     "output_type": "stream",
     "text": [
      "Delta: 0.044\n"
     ]
    }
   ],
   "source": [
    "delta = (p_sam - p_pop) #/ p_pop\n",
    "\n",
    "print(\"Delta: %.3f\" % delta)"
   ]
  },
  {
   "cell_type": "code",
   "execution_count": 16,
   "metadata": {},
   "outputs": [
    {
     "name": "stdout",
     "output_type": "stream",
     "text": [
      "p-hat: 0.17\n"
     ]
    }
   ],
   "source": [
    "p_hat = (p_sam+p_pop)/2\n",
    "\n",
    "print(\"p-hat: %.2f\" % p_hat)"
   ]
  },
  {
   "cell_type": "code",
   "execution_count": 17,
   "metadata": {},
   "outputs": [
    {
     "name": "stdout",
     "output_type": "stream",
     "text": [
      "Optimal sample size: 1158\n"
     ]
    }
   ],
   "source": [
    "n_opt = ((z_alpha*math.sqrt(2*p_hat*(1-p_hat)) + z_beta * math.sqrt(p_pop*(1-p_pop) + p_sam *(1-p_sam)))**2 ) / delta**2\n",
    "\n",
    "print(\"Optimal sample size: %d\" % math.ceil(n_opt))"
   ]
  },
  {
   "cell_type": "code",
   "execution_count": 19,
   "metadata": {},
   "outputs": [],
   "source": [
    "# create 10 samples according to size n_opt\n",
    "samples = []\n",
    "\n",
    "x=0\n",
    "while x < 10:\n",
    "    samples.append(random.sample(df[df['Variant'] == \"B\"]['id'].tolist(),math.ceil(n_opt)))\n",
    "    x += 1"
   ]
  },
  {
   "cell_type": "code",
   "execution_count": 20,
   "metadata": {},
   "outputs": [
    {
     "name": "stdout",
     "output_type": "stream",
     "text": [
      "   Sample_Number  p_sample   z_score  reject_null\n",
      "0              0  0.189983  3.593882         True\n",
      "1              1  0.181347  2.775501         True\n",
      "2              2  0.188256  3.430206         True\n",
      "3              3  0.199482  4.494101         True\n",
      "4              4  0.203800  4.903292         True\n",
      "5              5  0.196028  4.166749         True\n",
      "6              6  0.193437  3.921234         True\n",
      "7              7  0.197755  4.330425         True\n",
      "8              8  0.198618  4.412263         True\n",
      "9              9  0.186528  3.266529         True\n"
     ]
    }
   ],
   "source": [
    "# test the samples\n",
    "list_p_sample = []\n",
    "list_z = []\n",
    "list_reject_null = []\n",
    "\n",
    "for i in samples:\n",
    "    # subset data to just the samples\n",
    "    df_sample = df[df['id'].isin(i)]\n",
    "    \n",
    "    # calculate p sample\n",
    "    p_sample = len(df_sample[df_sample['purchase_TF'] == True]) / len(df_sample)\n",
    "    \n",
    "    # calculate z\n",
    "    z = (p_sample - p_pop) / math.sqrt( (p_pop*(1-p_pop)) / math.ceil(n_opt) )\n",
    "    \n",
    "    # do i reject the null hypothesis\n",
    "    reject_null = abs(z) > z_alpha\n",
    "    \n",
    "    list_p_sample.append(p_sample)\n",
    "    list_z.append(z)\n",
    "    list_reject_null.append(reject_null)\n",
    "    \n",
    "df_sampleresults = pd.DataFrame({'Sample_Number': range(0,len(samples)), \n",
    "                                 'p_sample': list_p_sample,\n",
    "                                'z_score': list_z,\n",
    "                                'reject_null': list_reject_null})\n",
    "\n",
    "print(df_sampleresults)"
   ]
  },
  {
   "cell_type": "markdown",
   "metadata": {},
   "source": [
    "## Question 3"
   ]
  },
  {
   "cell_type": "code",
   "execution_count": 21,
   "metadata": {},
   "outputs": [
    {
     "name": "stdout",
     "output_type": "stream",
     "text": [
      "Upper Bound: 3.00\n",
      "Lower Bound: -1.61\n"
     ]
    }
   ],
   "source": [
    "# establish boundaries\n",
    "upper_bound = math.log(1/alpha)\n",
    "lower_bound = math.log(beta)\n",
    "\n",
    "print(\"Upper Bound: %.2f\" % upper_bound)\n",
    "print(\"Lower Bound: %.2f\" % lower_bound)"
   ]
  },
  {
   "cell_type": "code",
   "execution_count": 23,
   "metadata": {},
   "outputs": [
    {
     "name": "stdout",
     "output_type": "stream",
     "text": [
      "[106, 65, 206, 445, 124, 190, 290, 302, 300, 1003]\n",
      "['Lower bound', 'Upper bound', 'Upper bound', 'Upper bound', 'Upper bound', 'Upper bound', 'Upper bound', 'Lower bound', 'Upper bound', 'Upper bound']\n",
      "Average iterations: 303.10\n"
     ]
    }
   ],
   "source": [
    "stopping_iteration = []\n",
    "stopping_reason = []\n",
    "\n",
    "for sample_n in samples:\n",
    "    results = df[df['id'].isin(sample_n)]['purchase_TF'].values\n",
    "\n",
    "    log_gamma = 0\n",
    "    count = 0\n",
    "    while (log_gamma > lower_bound) & (log_gamma < upper_bound):\n",
    "        if results[count] == True:\n",
    "            log_gamma = log_gamma + math.log(p_sam / p_pop)\n",
    "        else:\n",
    "            log_gamma = log_gamma + math.log( (1-p_sam) / (1-p_pop))\n",
    "\n",
    "        count += 1\n",
    "\n",
    "    stopping_iteration.append(count)\n",
    "    \n",
    "    if log_gamma < lower_bound:\n",
    "        stopping_reason.append('Lower bound')\n",
    "    else:\n",
    "        stopping_reason.append('Upper bound')\n",
    "    \n",
    "print(stopping_iteration)\n",
    "print(stopping_reason)\n",
    "print(\"Average iterations: %.2f\" % (sum(stopping_iteration) / len(stopping_iteration)))"
   ]
  }
 ],
 "metadata": {
  "kernelspec": {
   "display_name": "venv",
   "language": "python",
   "name": "venv"
  },
  "language_info": {
   "codemirror_mode": {
    "name": "ipython",
    "version": 3
   },
   "file_extension": ".py",
   "mimetype": "text/x-python",
   "name": "python",
   "nbconvert_exporter": "python",
   "pygments_lexer": "ipython3",
   "version": "3.7.3"
  }
 },
 "nbformat": 4,
 "nbformat_minor": 4
}

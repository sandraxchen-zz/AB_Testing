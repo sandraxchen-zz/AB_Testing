{
 "cells": [
  {
   "cell_type": "code",
   "execution_count": 41,
   "metadata": {},
   "outputs": [],
   "source": [
    "import pandas as pd\n",
    "from scipy import stats as st\n",
    "import math\n",
    "import random"
   ]
  },
  {
   "cell_type": "code",
   "execution_count": 2,
   "metadata": {},
   "outputs": [
    {
     "data": {
      "text/html": [
       "<div>\n",
       "<style scoped>\n",
       "    .dataframe tbody tr th:only-of-type {\n",
       "        vertical-align: middle;\n",
       "    }\n",
       "\n",
       "    .dataframe tbody tr th {\n",
       "        vertical-align: top;\n",
       "    }\n",
       "\n",
       "    .dataframe thead th {\n",
       "        text-align: right;\n",
       "    }\n",
       "</style>\n",
       "<table border=\"1\" class=\"dataframe\">\n",
       "  <thead>\n",
       "    <tr style=\"text-align: right;\">\n",
       "      <th></th>\n",
       "      <th>Variant</th>\n",
       "      <th>purchase_TF</th>\n",
       "      <th>date</th>\n",
       "      <th>id</th>\n",
       "    </tr>\n",
       "  </thead>\n",
       "  <tbody>\n",
       "    <tr>\n",
       "      <th>0</th>\n",
       "      <td>A</td>\n",
       "      <td>False</td>\n",
       "      <td>2019-12-26</td>\n",
       "      <td>0x6f9421</td>\n",
       "    </tr>\n",
       "    <tr>\n",
       "      <th>1</th>\n",
       "      <td>A</td>\n",
       "      <td>False</td>\n",
       "      <td>2019-08-16</td>\n",
       "      <td>0x59d442</td>\n",
       "    </tr>\n",
       "    <tr>\n",
       "      <th>2</th>\n",
       "      <td>A</td>\n",
       "      <td>True</td>\n",
       "      <td>2019-03-18</td>\n",
       "      <td>0x6db8f8</td>\n",
       "    </tr>\n",
       "    <tr>\n",
       "      <th>3</th>\n",
       "      <td>A</td>\n",
       "      <td>False</td>\n",
       "      <td>2019-02-13</td>\n",
       "      <td>0x68245d</td>\n",
       "    </tr>\n",
       "    <tr>\n",
       "      <th>4</th>\n",
       "      <td>A</td>\n",
       "      <td>False</td>\n",
       "      <td>2019-09-28</td>\n",
       "      <td>0x28566e</td>\n",
       "    </tr>\n",
       "  </tbody>\n",
       "</table>\n",
       "</div>"
      ],
      "text/plain": [
       "  Variant  purchase_TF        date        id\n",
       "0       A        False  2019-12-26  0x6f9421\n",
       "1       A        False  2019-08-16  0x59d442\n",
       "2       A         True  2019-03-18  0x6db8f8\n",
       "3       A        False  2019-02-13  0x68245d\n",
       "4       A        False  2019-09-28  0x28566e"
      ]
     },
     "execution_count": 2,
     "metadata": {},
     "output_type": "execute_result"
    }
   ],
   "source": [
    "df = pd.read_csv(\"AB_test_data.csv\")\n",
    "\n",
    "df.head()"
   ]
  },
  {
   "cell_type": "markdown",
   "metadata": {},
   "source": [
    "## Question 1"
   ]
  },
  {
   "cell_type": "code",
   "execution_count": 9,
   "metadata": {},
   "outputs": [
    {
     "data": {
      "text/plain": [
       "0.15206"
      ]
     },
     "execution_count": 9,
     "metadata": {},
     "output_type": "execute_result"
    }
   ],
   "source": [
    "# for variant A - what % purchased\n",
    "p_pop = len(df[(df['Variant'] == \"A\") & (df['purchase_TF'] == True)]) / len(df[df['Variant'] == \"A\"])\n",
    "p_pop"
   ]
  },
  {
   "cell_type": "code",
   "execution_count": 10,
   "metadata": {},
   "outputs": [
    {
     "data": {
      "text/plain": [
       "0.1962"
      ]
     },
     "execution_count": 10,
     "metadata": {},
     "output_type": "execute_result"
    }
   ],
   "source": [
    "# for variant B - what % purchase\n",
    "p_sam = len(df[(df['Variant'] == \"B\") & (df['purchase_TF'] == True)]) / len(df[df['Variant'] == \"B\"])\n",
    "p_sam"
   ]
  },
  {
   "cell_type": "code",
   "execution_count": 11,
   "metadata": {},
   "outputs": [
    {
     "data": {
      "text/plain": [
       "5000"
      ]
     },
     "execution_count": 11,
     "metadata": {},
     "output_type": "execute_result"
    }
   ],
   "source": [
    "# sample size - how many people got variant B\n",
    "n = len(df[df['Variant'] == \"B\"])\n",
    "n"
   ]
  },
  {
   "cell_type": "code",
   "execution_count": 16,
   "metadata": {},
   "outputs": [
    {
     "data": {
      "text/plain": [
       "8.692151285198767"
      ]
     },
     "execution_count": 16,
     "metadata": {},
     "output_type": "execute_result"
    }
   ],
   "source": [
    "z = (p_sam - p_pop) / math.sqrt( (p_pop*(1-p_pop)) / n )\n",
    "z"
   ]
  },
  {
   "cell_type": "code",
   "execution_count": 74,
   "metadata": {},
   "outputs": [
    {
     "data": {
      "text/plain": [
       "1.959963984540054"
      ]
     },
     "execution_count": 74,
     "metadata": {},
     "output_type": "execute_result"
    }
   ],
   "source": [
    "alpha = 0.05\n",
    "\n",
    "z_alpha = st.norm.ppf(1-(alpha/2))\n",
    "\n",
    "z_alpha"
   ]
  },
  {
   "cell_type": "code",
   "execution_count": 23,
   "metadata": {},
   "outputs": [
    {
     "data": {
      "text/plain": [
       "True"
      ]
     },
     "execution_count": 23,
     "metadata": {},
     "output_type": "execute_result"
    }
   ],
   "source": [
    "z > z_alpha"
   ]
  },
  {
   "cell_type": "markdown",
   "metadata": {},
   "source": [
    "## Question 2"
   ]
  },
  {
   "cell_type": "code",
   "execution_count": 73,
   "metadata": {},
   "outputs": [
    {
     "data": {
      "text/plain": [
       "0.8416212335729143"
      ]
     },
     "execution_count": 73,
     "metadata": {},
     "output_type": "execute_result"
    }
   ],
   "source": [
    "beta = 1-0.8\n",
    "z_beta = st.norm.ppf(1-beta)\n",
    "z_beta"
   ]
  },
  {
   "cell_type": "code",
   "execution_count": 115,
   "metadata": {},
   "outputs": [
    {
     "data": {
      "text/plain": [
       "0.04414000000000001"
      ]
     },
     "execution_count": 115,
     "metadata": {},
     "output_type": "execute_result"
    }
   ],
   "source": [
    "mde = (p_sam - p_pop) #/ p_pop\n",
    "\n",
    "mde"
   ]
  },
  {
   "cell_type": "code",
   "execution_count": 69,
   "metadata": {},
   "outputs": [
    {
     "data": {
      "text/plain": [
       "0.17413"
      ]
     },
     "execution_count": 69,
     "metadata": {},
     "output_type": "execute_result"
    }
   ],
   "source": [
    "p_hat = (p_sam+p_pop)/2\n",
    "p_hat"
   ]
  },
  {
   "cell_type": "code",
   "execution_count": 116,
   "metadata": {},
   "outputs": [
    {
     "data": {
      "text/plain": [
       "1157.4864702340158"
      ]
     },
     "execution_count": 116,
     "metadata": {},
     "output_type": "execute_result"
    }
   ],
   "source": [
    "n_opt = ((z_alpha*math.sqrt(2*p_hat*(1-p_hat)) + z_beta * math.sqrt(p_pop*(1-p_pop) + p_sam *(1-p_sam)))**2 ) / mde**2\n",
    "\n",
    "n_opt"
   ]
  },
  {
   "cell_type": "code",
   "execution_count": 117,
   "metadata": {},
   "outputs": [],
   "source": [
    "# create 10 samples according to size n_opt\n",
    "samples = []\n",
    "\n",
    "x=0\n",
    "while x < 10:\n",
    "    samples.append(random.sample(df[df['Variant'] == \"B\"]['id'].tolist(),math.ceil(n_opt)))\n",
    "    x += 1"
   ]
  },
  {
   "cell_type": "code",
   "execution_count": 118,
   "metadata": {},
   "outputs": [
    {
     "data": {
      "text/html": [
       "<div>\n",
       "<style scoped>\n",
       "    .dataframe tbody tr th:only-of-type {\n",
       "        vertical-align: middle;\n",
       "    }\n",
       "\n",
       "    .dataframe tbody tr th {\n",
       "        vertical-align: top;\n",
       "    }\n",
       "\n",
       "    .dataframe thead th {\n",
       "        text-align: right;\n",
       "    }\n",
       "</style>\n",
       "<table border=\"1\" class=\"dataframe\">\n",
       "  <thead>\n",
       "    <tr style=\"text-align: right;\">\n",
       "      <th></th>\n",
       "      <th>Sample_Number</th>\n",
       "      <th>p_sample</th>\n",
       "      <th>z_score</th>\n",
       "      <th>reject_null</th>\n",
       "    </tr>\n",
       "  </thead>\n",
       "  <tbody>\n",
       "    <tr>\n",
       "      <th>0</th>\n",
       "      <td>0</td>\n",
       "      <td>0.196028</td>\n",
       "      <td>4.166749</td>\n",
       "      <td>True</td>\n",
       "    </tr>\n",
       "    <tr>\n",
       "      <th>1</th>\n",
       "      <td>1</td>\n",
       "      <td>0.197755</td>\n",
       "      <td>4.330425</td>\n",
       "      <td>True</td>\n",
       "    </tr>\n",
       "    <tr>\n",
       "      <th>2</th>\n",
       "      <td>2</td>\n",
       "      <td>0.190846</td>\n",
       "      <td>3.675720</td>\n",
       "      <td>True</td>\n",
       "    </tr>\n",
       "    <tr>\n",
       "      <th>3</th>\n",
       "      <td>3</td>\n",
       "      <td>0.202073</td>\n",
       "      <td>4.739616</td>\n",
       "      <td>True</td>\n",
       "    </tr>\n",
       "    <tr>\n",
       "      <th>4</th>\n",
       "      <td>4</td>\n",
       "      <td>0.196028</td>\n",
       "      <td>4.166749</td>\n",
       "      <td>True</td>\n",
       "    </tr>\n",
       "    <tr>\n",
       "      <th>5</th>\n",
       "      <td>5</td>\n",
       "      <td>0.205527</td>\n",
       "      <td>5.066968</td>\n",
       "      <td>True</td>\n",
       "    </tr>\n",
       "    <tr>\n",
       "      <th>6</th>\n",
       "      <td>6</td>\n",
       "      <td>0.182211</td>\n",
       "      <td>2.857339</td>\n",
       "      <td>True</td>\n",
       "    </tr>\n",
       "    <tr>\n",
       "      <th>7</th>\n",
       "      <td>7</td>\n",
       "      <td>0.187392</td>\n",
       "      <td>3.348368</td>\n",
       "      <td>True</td>\n",
       "    </tr>\n",
       "    <tr>\n",
       "      <th>8</th>\n",
       "      <td>8</td>\n",
       "      <td>0.183074</td>\n",
       "      <td>2.939177</td>\n",
       "      <td>True</td>\n",
       "    </tr>\n",
       "    <tr>\n",
       "      <th>9</th>\n",
       "      <td>9</td>\n",
       "      <td>0.198618</td>\n",
       "      <td>4.412263</td>\n",
       "      <td>True</td>\n",
       "    </tr>\n",
       "  </tbody>\n",
       "</table>\n",
       "</div>"
      ],
      "text/plain": [
       "   Sample_Number  p_sample   z_score  reject_null\n",
       "0              0  0.196028  4.166749         True\n",
       "1              1  0.197755  4.330425         True\n",
       "2              2  0.190846  3.675720         True\n",
       "3              3  0.202073  4.739616         True\n",
       "4              4  0.196028  4.166749         True\n",
       "5              5  0.205527  5.066968         True\n",
       "6              6  0.182211  2.857339         True\n",
       "7              7  0.187392  3.348368         True\n",
       "8              8  0.183074  2.939177         True\n",
       "9              9  0.198618  4.412263         True"
      ]
     },
     "execution_count": 118,
     "metadata": {},
     "output_type": "execute_result"
    }
   ],
   "source": [
    "# test the samples\n",
    "list_p_sample = []\n",
    "list_z = []\n",
    "list_reject_null = []\n",
    "\n",
    "for i in samples:\n",
    "    # subset data to just the samples\n",
    "    df_sample = df[df['id'].isin(i)]\n",
    "    \n",
    "    # calculate p sample\n",
    "    p_sample = len(df_sample[df_sample['purchase_TF'] == True]) / len(df_sample)\n",
    "    \n",
    "    # calculate z\n",
    "    z = (p_sample - p_pop) / math.sqrt( (p_pop*(1-p_pop)) / math.ceil(n_opt) )\n",
    "    \n",
    "    # do i reject the null hypothesis\n",
    "    reject_null = abs(z) > z_alpha\n",
    "    \n",
    "    list_p_sample.append(p_sample)\n",
    "    list_z.append(z)\n",
    "    list_reject_null.append(reject_null)\n",
    "    \n",
    "df_sampleresults = pd.DataFrame({'Sample_Number': range(0,len(samples)), \n",
    "                                 'p_sample': list_p_sample,\n",
    "                                'z_score': list_z,\n",
    "                                'reject_null': list_reject_null})\n",
    "\n",
    "df_sampleresults"
   ]
  },
  {
   "cell_type": "markdown",
   "metadata": {},
   "source": [
    "## Question 3"
   ]
  },
  {
   "cell_type": "code",
   "execution_count": 85,
   "metadata": {},
   "outputs": [],
   "source": [
    "# establish boundaries\n",
    "upper_bound = math.log(1/alpha)\n",
    "lower_bound = math.log(beta)"
   ]
  },
  {
   "cell_type": "code",
   "execution_count": 119,
   "metadata": {},
   "outputs": [
    {
     "name": "stdout",
     "output_type": "stream",
     "text": [
      "[676, 159, 658, 486, 238, 226, 190, 899, 1013, 317]\n",
      "['High', 'High', 'High', 'High', 'High', 'High', 'High', 'High', 'High', 'High']\n",
      "486.2\n"
     ]
    }
   ],
   "source": [
    "stopping_iteration = []\n",
    "stopping_reason = []\n",
    "\n",
    "for sample_n in samples:\n",
    "    results = df[df['id'].isin(sample_n)]['purchase_TF'].values\n",
    "\n",
    "    log_gamma = 0\n",
    "    count = 0\n",
    "    while (log_gamma > lower_bound) & (log_gamma < upper_bound):\n",
    "        if results[count] == True:\n",
    "            log_gamma = log_gamma + math.log(p_sam / p_pop)\n",
    "        else:\n",
    "            log_gamma = log_gamma + math.log( (1-p_sam) / (1-p_pop))\n",
    "\n",
    "        count += 1\n",
    "\n",
    "    stopping_iteration.append(count)\n",
    "    \n",
    "    if log_gamma < lower_bound:\n",
    "        stopping_reason.append('Low')\n",
    "    else:\n",
    "        stopping_reason.append('High')\n",
    "    \n",
    "print(stopping_iteration)\n",
    "print(stopping_reason)\n",
    "print(sum(stopping_iteration) / len(stopping_iteration))"
   ]
  }
 ],
 "metadata": {
  "kernelspec": {
   "display_name": "venv",
   "language": "python",
   "name": "venv"
  },
  "language_info": {
   "codemirror_mode": {
    "name": "ipython",
    "version": 3
   },
   "file_extension": ".py",
   "mimetype": "text/x-python",
   "name": "python",
   "nbconvert_exporter": "python",
   "pygments_lexer": "ipython3",
   "version": "3.7.3"
  }
 },
 "nbformat": 4,
 "nbformat_minor": 4
}

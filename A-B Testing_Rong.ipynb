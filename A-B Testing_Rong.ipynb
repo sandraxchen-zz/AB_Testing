{
 "cells": [
  {
   "cell_type": "code",
   "execution_count": 1,
   "metadata": {},
   "outputs": [],
   "source": [
    "import pandas as pd\n",
    "import numpy as np\n",
    "from scipy import stats as st"
   ]
  },
  {
   "cell_type": "code",
   "execution_count": 2,
   "metadata": {},
   "outputs": [],
   "source": [
    "data = pd.read_csv(\"AB_test_data.csv\")\n",
    "\n",
    "def purchase_dummies(data):\n",
    "    if data == False:\n",
    "        return int(\"0\")\n",
    "    else:\n",
    "        return int(\"1\")\n",
    "\n",
    "data['purchase_TF'] = data['purchase_TF'].apply(purchase_dummies)"
   ]
  },
  {
   "cell_type": "code",
   "execution_count": 3,
   "metadata": {},
   "outputs": [
    {
     "data": {
      "text/plain": [
       "55000"
      ]
     },
     "execution_count": 3,
     "metadata": {},
     "output_type": "execute_result"
    }
   ],
   "source": [
    "data.id.nunique()"
   ]
  },
  {
   "cell_type": "code",
   "execution_count": 4,
   "metadata": {},
   "outputs": [
    {
     "data": {
      "text/plain": [
       "Variant        0\n",
       "purchase_TF    0\n",
       "date           0\n",
       "id             0\n",
       "dtype: int64"
      ]
     },
     "execution_count": 4,
     "metadata": {},
     "output_type": "execute_result"
    }
   ],
   "source": [
    "data.isnull().sum()"
   ]
  },
  {
   "cell_type": "code",
   "execution_count": 5,
   "metadata": {},
   "outputs": [
    {
     "data": {
      "text/html": [
       "<div>\n",
       "<style scoped>\n",
       "    .dataframe tbody tr th:only-of-type {\n",
       "        vertical-align: middle;\n",
       "    }\n",
       "\n",
       "    .dataframe tbody tr th {\n",
       "        vertical-align: top;\n",
       "    }\n",
       "\n",
       "    .dataframe thead th {\n",
       "        text-align: right;\n",
       "    }\n",
       "</style>\n",
       "<table border=\"1\" class=\"dataframe\">\n",
       "  <thead>\n",
       "    <tr style=\"text-align: right;\">\n",
       "      <th></th>\n",
       "      <th>Variant</th>\n",
       "      <th>purchase_TF</th>\n",
       "      <th>date</th>\n",
       "      <th>id</th>\n",
       "    </tr>\n",
       "  </thead>\n",
       "  <tbody>\n",
       "    <tr>\n",
       "      <th>0</th>\n",
       "      <td>A</td>\n",
       "      <td>0</td>\n",
       "      <td>2019-12-26</td>\n",
       "      <td>0x6f9421</td>\n",
       "    </tr>\n",
       "    <tr>\n",
       "      <th>1</th>\n",
       "      <td>A</td>\n",
       "      <td>0</td>\n",
       "      <td>2019-08-16</td>\n",
       "      <td>0x59d442</td>\n",
       "    </tr>\n",
       "    <tr>\n",
       "      <th>2</th>\n",
       "      <td>A</td>\n",
       "      <td>1</td>\n",
       "      <td>2019-03-18</td>\n",
       "      <td>0x6db8f8</td>\n",
       "    </tr>\n",
       "    <tr>\n",
       "      <th>3</th>\n",
       "      <td>A</td>\n",
       "      <td>0</td>\n",
       "      <td>2019-02-13</td>\n",
       "      <td>0x68245d</td>\n",
       "    </tr>\n",
       "    <tr>\n",
       "      <th>4</th>\n",
       "      <td>A</td>\n",
       "      <td>0</td>\n",
       "      <td>2019-09-28</td>\n",
       "      <td>0x28566e</td>\n",
       "    </tr>\n",
       "  </tbody>\n",
       "</table>\n",
       "</div>"
      ],
      "text/plain": [
       "  Variant  purchase_TF        date        id\n",
       "0       A            0  2019-12-26  0x6f9421\n",
       "1       A            0  2019-08-16  0x59d442\n",
       "2       A            1  2019-03-18  0x6db8f8\n",
       "3       A            0  2019-02-13  0x68245d\n",
       "4       A            0  2019-09-28  0x28566e"
      ]
     },
     "execution_count": 5,
     "metadata": {},
     "output_type": "execute_result"
    }
   ],
   "source": [
    "data.head()"
   ]
  },
  {
   "cell_type": "markdown",
   "metadata": {},
   "source": [
    "## Is B better than A?"
   ]
  },
  {
   "cell_type": "code",
   "execution_count": 6,
   "metadata": {},
   "outputs": [
    {
     "name": "stdout",
     "output_type": "stream",
     "text": [
      "50000\n",
      "5000\n"
     ]
    }
   ],
   "source": [
    "# number of samples\n",
    "n_A = data.query('Variant==\"A\"').shape[0]\n",
    "n_B = data.query('Variant==\"B\"').shape[0]\n",
    "print(n_A)\n",
    "print(n_B)"
   ]
  },
  {
   "cell_type": "code",
   "execution_count": 7,
   "metadata": {},
   "outputs": [
    {
     "name": "stdout",
     "output_type": "stream",
     "text": [
      "7603 981\n"
     ]
    }
   ],
   "source": [
    "# number of conversion\n",
    "convert_A = data.query('Variant==\"A\" & purchase_TF==\"1\"').shape[0]\n",
    "convert_B = data.query('Variant==\"B\" & purchase_TF==\"1\"').shape[0]\n",
    "print(convert_A,convert_B)"
   ]
  },
  {
   "cell_type": "code",
   "execution_count": 8,
   "metadata": {},
   "outputs": [
    {
     "name": "stdout",
     "output_type": "stream",
     "text": [
      "0.15206 0.1962\n"
     ]
    }
   ],
   "source": [
    "# convert rate\n",
    "p_A = convert_A / n_A\n",
    "p_B = convert_B / n_B\n",
    "\n",
    "print(p_A, p_B)"
   ]
  },
  {
   "cell_type": "code",
   "execution_count": 9,
   "metadata": {},
   "outputs": [
    {
     "data": {
      "text/plain": [
       "1.959963984540054"
      ]
     },
     "execution_count": 9,
     "metadata": {},
     "output_type": "execute_result"
    }
   ],
   "source": [
    "from scipy.stats import norm\n",
    "z_alpha = st.norm.ppf(1-0.05/2)\n",
    "z_alpha"
   ]
  },
  {
   "cell_type": "code",
   "execution_count": 10,
   "metadata": {},
   "outputs": [
    {
     "data": {
      "text/plain": [
       "8.692151285198767"
      ]
     },
     "execution_count": 10,
     "metadata": {},
     "output_type": "execute_result"
    }
   ],
   "source": [
    "z = (p_B-p_A) / np.sqrt(p_A*(1-p_A)/n_B)\n",
    "z"
   ]
  },
  {
   "cell_type": "markdown",
   "metadata": {},
   "source": [
    "Because z > z_alpha, we can reject H0: p_A >= p_B and accept that p_A < p_B."
   ]
  },
  {
   "cell_type": "markdown",
   "metadata": {},
   "source": [
    "## Solving optimal sample size"
   ]
  },
  {
   "cell_type": "code",
   "execution_count": 11,
   "metadata": {},
   "outputs": [],
   "source": [
    "from scipy.stats import norm\n",
    "z_beta = norm.ppf(0.2)\n",
    "z_alpha_2 = norm.ppf(0.025)"
   ]
  },
  {
   "cell_type": "code",
   "execution_count": 12,
   "metadata": {},
   "outputs": [
    {
     "data": {
      "text/plain": [
       "1154.741666739501"
      ]
     },
     "execution_count": 12,
     "metadata": {},
     "output_type": "execute_result"
    }
   ],
   "source": [
    "n = ((z_alpha_2+z_beta)**2 * (p_A*(1-p_A)+p_B*(1-p_B)))/(p_A-p_B)**2\n",
    "n"
   ]
  },
  {
   "cell_type": "markdown",
   "metadata": {},
   "source": [
    "## Conduct the test 10 times"
   ]
  },
  {
   "cell_type": "code",
   "execution_count": 13,
   "metadata": {},
   "outputs": [
    {
     "name": "stdout",
     "output_type": "stream",
     "text": [
      "0.15206 0.04414000000000001\n"
     ]
    }
   ],
   "source": [
    "bcr = p_A  # baseline conversion rate\n",
    "d_hat = p_B-p_A # difference between the groups\n",
    "print(bcr, d_hat)"
   ]
  },
  {
   "cell_type": "code",
   "execution_count": 81,
   "metadata": {},
   "outputs": [],
   "source": [
    "def create_df(N_concat):\n",
    "    \n",
    "    alist=[]\n",
    "    \n",
    "    convert_N_A = N_concat.query('Variant==\"A\" & purchase_TF==\"1\"').shape[0]\n",
    "    convert_N_B = N_concat.query('Variant==\"B\" & purchase_TF==\"1\"').shape[0]\n",
    "    p_N_A = convert_N_A / 50000\n",
    "    p_N_B = convert_N_B / 1155\n",
    "    \n",
    "    z_alpha = st.norm.ppf(1-0.05/2)\n",
    "    z = (p_N_B-p_N_A) / np.sqrt(p_N_A*(1-p_N_A)/1155)\n",
    "    \n",
    "    reject_H0 = z > z_alpha \n",
    "    \n",
    "    alist.append(p_N_B)\n",
    "    alist.append(z)\n",
    "    alist.append(reject_H0)\n",
    "    \n",
    "    return alist\n",
    "    "
   ]
  },
  {
   "cell_type": "code",
   "execution_count": 82,
   "metadata": {},
   "outputs": [],
   "source": [
    "adict={}\n",
    "i=0\n",
    "\n",
    "while i < 10:\n",
    "    N_A = data[data[\"Variant\"]==\"A\"]\n",
    "    N_B = data[data[\"Variant\"]==\"B\"].sample(n=1155)\n",
    "    N_concat = pd.concat([N_A,N_B])\n",
    "    adict[i]=create_df(N_concat)\n",
    "    i += 1"
   ]
  },
  {
   "cell_type": "code",
   "execution_count": 86,
   "metadata": {},
   "outputs": [
    {
     "data": {
      "text/html": [
       "<div>\n",
       "<style scoped>\n",
       "    .dataframe tbody tr th:only-of-type {\n",
       "        vertical-align: middle;\n",
       "    }\n",
       "\n",
       "    .dataframe tbody tr th {\n",
       "        vertical-align: top;\n",
       "    }\n",
       "\n",
       "    .dataframe thead th {\n",
       "        text-align: right;\n",
       "    }\n",
       "</style>\n",
       "<table border=\"1\" class=\"dataframe\">\n",
       "  <thead>\n",
       "    <tr style=\"text-align: right;\">\n",
       "      <th></th>\n",
       "      <th>p_sample</th>\n",
       "      <th>z_score</th>\n",
       "      <th>reject_H0</th>\n",
       "    </tr>\n",
       "  </thead>\n",
       "  <tbody>\n",
       "    <tr>\n",
       "      <th>0</th>\n",
       "      <td>0.191342</td>\n",
       "      <td>3.71787</td>\n",
       "      <td>True</td>\n",
       "    </tr>\n",
       "    <tr>\n",
       "      <th>1</th>\n",
       "      <td>0.186147</td>\n",
       "      <td>3.22621</td>\n",
       "      <td>True</td>\n",
       "    </tr>\n",
       "    <tr>\n",
       "      <th>2</th>\n",
       "      <td>0.203463</td>\n",
       "      <td>4.86509</td>\n",
       "      <td>True</td>\n",
       "    </tr>\n",
       "    <tr>\n",
       "      <th>3</th>\n",
       "      <td>0.212121</td>\n",
       "      <td>5.68454</td>\n",
       "      <td>True</td>\n",
       "    </tr>\n",
       "    <tr>\n",
       "      <th>4</th>\n",
       "      <td>0.199134</td>\n",
       "      <td>4.45537</td>\n",
       "      <td>True</td>\n",
       "    </tr>\n",
       "    <tr>\n",
       "      <th>5</th>\n",
       "      <td>0.201732</td>\n",
       "      <td>4.7012</td>\n",
       "      <td>True</td>\n",
       "    </tr>\n",
       "    <tr>\n",
       "      <th>6</th>\n",
       "      <td>0.185281</td>\n",
       "      <td>3.14426</td>\n",
       "      <td>True</td>\n",
       "    </tr>\n",
       "    <tr>\n",
       "      <th>7</th>\n",
       "      <td>0.192208</td>\n",
       "      <td>3.79982</td>\n",
       "      <td>True</td>\n",
       "    </tr>\n",
       "    <tr>\n",
       "      <th>8</th>\n",
       "      <td>0.193074</td>\n",
       "      <td>3.88176</td>\n",
       "      <td>True</td>\n",
       "    </tr>\n",
       "    <tr>\n",
       "      <th>9</th>\n",
       "      <td>0.193939</td>\n",
       "      <td>3.96371</td>\n",
       "      <td>True</td>\n",
       "    </tr>\n",
       "  </tbody>\n",
       "</table>\n",
       "</div>"
      ],
      "text/plain": [
       "   p_sample  z_score reject_H0\n",
       "0  0.191342  3.71787      True\n",
       "1  0.186147  3.22621      True\n",
       "2  0.203463  4.86509      True\n",
       "3  0.212121  5.68454      True\n",
       "4  0.199134  4.45537      True\n",
       "5  0.201732   4.7012      True\n",
       "6  0.185281  3.14426      True\n",
       "7  0.192208  3.79982      True\n",
       "8  0.193074  3.88176      True\n",
       "9  0.193939  3.96371      True"
      ]
     },
     "execution_count": 86,
     "metadata": {},
     "output_type": "execute_result"
    }
   ],
   "source": [
    "df = pd.DataFrame(adict)\n",
    "df = df.T\n",
    "df.rename(columns={0:'p_sample', 1:'z_score', 2:'reject_H0'},inplace=True)\n",
    "df"
   ]
  },
  {
   "cell_type": "markdown",
   "metadata": {},
   "source": [
    "## Conduct a sequential test for the 10 samples"
   ]
  },
  {
   "cell_type": "code",
   "execution_count": 87,
   "metadata": {},
   "outputs": [
    {
     "name": "stdout",
     "output_type": "stream",
     "text": [
      "16.0 0.2105263157894737\n"
     ]
    }
   ],
   "source": [
    "# upper bound\n",
    "A = (1-0.2)/0.05\n",
    "\n",
    "# lower bound\n",
    "B = 0.2/(1-0.05)\n",
    "\n",
    "print(A,B)"
   ]
  },
  {
   "cell_type": "code",
   "execution_count": 105,
   "metadata": {},
   "outputs": [
    {
     "data": {
      "text/html": [
       "<div>\n",
       "<style scoped>\n",
       "    .dataframe tbody tr th:only-of-type {\n",
       "        vertical-align: middle;\n",
       "    }\n",
       "\n",
       "    .dataframe tbody tr th {\n",
       "        vertical-align: top;\n",
       "    }\n",
       "\n",
       "    .dataframe thead th {\n",
       "        text-align: right;\n",
       "    }\n",
       "</style>\n",
       "<table border=\"1\" class=\"dataframe\">\n",
       "  <thead>\n",
       "    <tr style=\"text-align: right;\">\n",
       "      <th></th>\n",
       "      <th>Variant</th>\n",
       "      <th>purchase_TF</th>\n",
       "      <th>date</th>\n",
       "      <th>id</th>\n",
       "    </tr>\n",
       "  </thead>\n",
       "  <tbody>\n",
       "    <tr>\n",
       "      <th>41947</th>\n",
       "      <td>A</td>\n",
       "      <td>1</td>\n",
       "      <td>2019-09-22</td>\n",
       "      <td>0x574fa5</td>\n",
       "    </tr>\n",
       "    <tr>\n",
       "      <th>32468</th>\n",
       "      <td>A</td>\n",
       "      <td>1</td>\n",
       "      <td>2019-07-10</td>\n",
       "      <td>0x13e555</td>\n",
       "    </tr>\n",
       "    <tr>\n",
       "      <th>12504</th>\n",
       "      <td>A</td>\n",
       "      <td>0</td>\n",
       "      <td>2020-01-16</td>\n",
       "      <td>0x6c5841</td>\n",
       "    </tr>\n",
       "    <tr>\n",
       "      <th>14655</th>\n",
       "      <td>A</td>\n",
       "      <td>0</td>\n",
       "      <td>2019-11-07</td>\n",
       "      <td>0x17490f</td>\n",
       "    </tr>\n",
       "    <tr>\n",
       "      <th>7805</th>\n",
       "      <td>A</td>\n",
       "      <td>0</td>\n",
       "      <td>2019-06-09</td>\n",
       "      <td>0x606309</td>\n",
       "    </tr>\n",
       "    <tr>\n",
       "      <th>14518</th>\n",
       "      <td>A</td>\n",
       "      <td>0</td>\n",
       "      <td>2019-07-23</td>\n",
       "      <td>0x60c2b9</td>\n",
       "    </tr>\n",
       "    <tr>\n",
       "      <th>39347</th>\n",
       "      <td>B</td>\n",
       "      <td>0</td>\n",
       "      <td>2020-01-30</td>\n",
       "      <td>0x3a8c5f</td>\n",
       "    </tr>\n",
       "    <tr>\n",
       "      <th>25565</th>\n",
       "      <td>A</td>\n",
       "      <td>0</td>\n",
       "      <td>2019-10-01</td>\n",
       "      <td>0x374b24</td>\n",
       "    </tr>\n",
       "    <tr>\n",
       "      <th>14360</th>\n",
       "      <td>A</td>\n",
       "      <td>0</td>\n",
       "      <td>2019-03-16</td>\n",
       "      <td>0x345b51</td>\n",
       "    </tr>\n",
       "    <tr>\n",
       "      <th>11635</th>\n",
       "      <td>A</td>\n",
       "      <td>1</td>\n",
       "      <td>2019-10-08</td>\n",
       "      <td>0x5fa8cd</td>\n",
       "    </tr>\n",
       "  </tbody>\n",
       "</table>\n",
       "</div>"
      ],
      "text/plain": [
       "      Variant  purchase_TF        date        id\n",
       "41947       A            1  2019-09-22  0x574fa5\n",
       "32468       A            1  2019-07-10  0x13e555\n",
       "12504       A            0  2020-01-16  0x6c5841\n",
       "14655       A            0  2019-11-07  0x17490f\n",
       "7805        A            0  2019-06-09  0x606309\n",
       "14518       A            0  2019-07-23  0x60c2b9\n",
       "39347       B            0  2020-01-30  0x3a8c5f\n",
       "25565       A            0  2019-10-01  0x374b24\n",
       "14360       A            0  2019-03-16  0x345b51\n",
       "11635       A            1  2019-10-08  0x5fa8cd"
      ]
     },
     "execution_count": 105,
     "metadata": {},
     "output_type": "execute_result"
    }
   ],
   "source": [
    "samples = data.sample(n=10)\n",
    "samples"
   ]
  },
  {
   "cell_type": "code",
   "execution_count": null,
   "metadata": {},
   "outputs": [],
   "source": [
    "for index, rows in samples.itterrows():\n",
    "    \n",
    "    log_gamma = 0\n",
    "    count = 0"
   ]
  },
  {
   "cell_type": "code",
   "execution_count": null,
   "metadata": {},
   "outputs": [],
   "source": []
  },
  {
   "cell_type": "code",
   "execution_count": null,
   "metadata": {},
   "outputs": [],
   "source": []
  },
  {
   "cell_type": "code",
   "execution_count": null,
   "metadata": {},
   "outputs": [],
   "source": []
  },
  {
   "cell_type": "code",
   "execution_count": null,
   "metadata": {},
   "outputs": [],
   "source": []
  }
 ],
 "metadata": {
  "kernelspec": {
   "display_name": "venv",
   "language": "python",
   "name": "venv"
  },
  "language_info": {
   "codemirror_mode": {
    "name": "ipython",
    "version": 3
   },
   "file_extension": ".py",
   "mimetype": "text/x-python",
   "name": "python",
   "nbconvert_exporter": "python",
   "pygments_lexer": "ipython3",
   "version": "3.7.3"
  }
 },
 "nbformat": 4,
 "nbformat_minor": 4
}
